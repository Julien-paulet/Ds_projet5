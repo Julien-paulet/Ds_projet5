{
 "cells": [
  {
   "cell_type": "code",
   "execution_count": 1,
   "metadata": {},
   "outputs": [],
   "source": [
    "import pandas as pd\n",
    "import numpy as np"
   ]
  },
  {
   "cell_type": "markdown",
   "metadata": {},
   "source": [
    "# Mise en place d'une Fonction de calcul des valeurs manquantes"
   ]
  },
  {
   "cell_type": "code",
   "execution_count": 2,
   "metadata": {},
   "outputs": [],
   "source": [
    "def isnan(data, aff_glob=True, aff_col=False):\n",
    "    taille = len(data)\n",
    "    nulle = []\n",
    "    nbr_moy = []\n",
    "    for i in data.columns:\n",
    "        if any(pd.isna(data[i])):\n",
    "            nbr = len(data[i])-len(data[i].dropna())\n",
    "            if aff_glob == True:\n",
    "                print(\"La colonne '{}'\".format(i), \"comporte\", nbr, \"/ {}\".format(taille), \"valeur(s) manquante(s)\")\n",
    "                print(\"Ce qui représente {}%\".format(nbr/taille*100))\n",
    "            if aff_col == True:\n",
    "                print(\"La colonne '{}' comporte des valeurs manquantes\".format(i))\n",
    "            col = data[i]\n",
    "            nulle.append(col)\n",
    "            nbr_moy.append(nbr)\n",
    "            \n",
    "    nbr_moy = pd.DataFrame(nbr_moy, columns=['Nbr']).mean()\n",
    "    print(len(nulle), \"colonnes au total possèdent des valeurs manquantes\")\n",
    "    print(nbr_moy[0], \"/ {}\".format(taille), \"valeurs sont manquantes en moyenne dans chaque colonne\") "
   ]
  }
 ],
 "metadata": {
  "kernelspec": {
   "display_name": "Python 3",
   "language": "python",
   "name": "python3"
  },
  "language_info": {
   "codemirror_mode": {
    "name": "ipython",
    "version": 3
   },
   "file_extension": ".py",
   "mimetype": "text/x-python",
   "name": "python",
   "nbconvert_exporter": "python",
   "pygments_lexer": "ipython3",
   "version": "3.7.1"
  },
  "toc": {
   "base_numbering": 1,
   "nav_menu": {},
   "number_sections": true,
   "sideBar": true,
   "skip_h1_title": false,
   "title_cell": "Table of Contents",
   "title_sidebar": "Contents",
   "toc_cell": false,
   "toc_position": {},
   "toc_section_display": true,
   "toc_window_display": false
  }
 },
 "nbformat": 4,
 "nbformat_minor": 2
}
