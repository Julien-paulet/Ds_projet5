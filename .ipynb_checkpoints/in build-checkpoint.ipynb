{
 "cells": [
  {
   "cell_type": "code",
   "execution_count": null,
   "metadata": {},
   "outputs": [],
   "source": [
    "# # Classe Clustering complet -- Not implemented yet. Still in build\n",
    "\n",
    "class gottaClustEmAll():\n",
    "    \n",
    "    \"\"\"Class to perform a complete clustering by inputing only one line of code\"\"\"\n",
    "    \n",
    "    \"\"\"Warning : Still in build, do not use it right now\"\"\"\n",
    "    \n",
    "    def allClustering(data, min_clust, max_clust, random_s=42, algo='kmeans',\n",
    "                      acp=False, save=False, *path):\n",
    "        \n",
    "        raise ValueError('Function still in build.') \n",
    "        \n",
    "        #Init variables\n",
    "        self.data = data\n",
    "        self.min_clust = min_clust\n",
    "        self.max_clust = max_clust\n",
    "        self.random_s = random_s\n",
    "        self.algo = algo\n",
    "        self.acp = acp\n",
    "        self.save = save\n",
    "        if path:\n",
    "            self.path = path\n",
    "        \n",
    "        #random fixed\n",
    "        np.random.seed(random_s)\n",
    "        \n",
    "        #---Data Preprocessing\n",
    "        X_scaled = prepData.centrageReduction(data)\n",
    "        \n",
    "        if acp==True:\n",
    "            prepData.acp(data, X_scaled) \n",
    "        else:\n",
    "            pass\n",
    "        \n",
    "        #---Clustering\n",
    "        silouhette_coef = clustering.silhouette(self.data, self.min_clust, \n",
    "                                                self.max_clust, self.random_s, \n",
    "                                                self.acp)\n",
    "        \n",
    "        data_clust = clustering.makeClustering(self.data, X_scaled, silouhette_coef, \n",
    "                                         self.random_s, self.algo)\n",
    "        \n",
    "        data_grouped = clustering.grouping(data_clust)\n",
    "        \n",
    "        #---Plot\n",
    "        plotClustering.plotPairplot(data_clust, self.save)\n",
    "\n",
    "        plotClustering.plotBoxplot(data_clust, self.save)\n",
    "\n",
    "        plotClustering.plotRadarplot(data_grouped, self.save)"
   ]
  }
 ],
 "metadata": {
  "kernelspec": {
   "display_name": "Python 3",
   "language": "python",
   "name": "python3"
  },
  "language_info": {
   "codemirror_mode": {
    "name": "ipython",
    "version": 3
   },
   "file_extension": ".py",
   "mimetype": "text/x-python",
   "name": "python",
   "nbconvert_exporter": "python",
   "pygments_lexer": "ipython3",
   "version": "3.7.1"
  },
  "toc": {
   "base_numbering": 1,
   "nav_menu": {},
   "number_sections": true,
   "sideBar": true,
   "skip_h1_title": false,
   "title_cell": "Table of Contents",
   "title_sidebar": "Contents",
   "toc_cell": false,
   "toc_position": {},
   "toc_section_display": true,
   "toc_window_display": false
  }
 },
 "nbformat": 4,
 "nbformat_minor": 2
}
